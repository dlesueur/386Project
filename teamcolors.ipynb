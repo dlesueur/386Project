{
 "cells": [
  {
   "cell_type": "code",
   "execution_count": 1,
   "metadata": {},
   "outputs": [],
   "source": [
    "import pandas as pd"
   ]
  },
  {
   "cell_type": "code",
   "execution_count": 2,
   "metadata": {},
   "outputs": [],
   "source": [
    "teams = pd.read_csv(\"datasets/teams.csv\")"
   ]
  },
  {
   "cell_type": "code",
   "execution_count": 3,
   "metadata": {},
   "outputs": [],
   "source": [
    "teamColors = teams[['full_name', 'abbreviation']]"
   ]
  },
  {
   "cell_type": "code",
   "execution_count": 4,
   "metadata": {},
   "outputs": [],
   "source": [
    "colorsHex = {'ATL' : '#C8102E', 'BOS' : '#007A33', 'BKN' : '#000000', 'CHA' : '#1D1160', 'CHI' : '#CE1141', \n",
    "            'CLE' : '#860038', 'DAL' : '#00538C', 'DEN' : '#0E2240', 'DET' : '#C8102E', 'GSW' : '#1D428A', \n",
    "            'HOU' : '#CE1141', 'IND' : '#002D62', 'LAC' : '#C8102E', 'LAL' : '#552583', 'MEM' : '#5D76A9', \n",
    "            'MIA' : '#98002E', 'MIL' : '#00471B', 'MIN' : '#0C2340', 'NOP' : '#0C2340', 'NYK' : '#006BB6',\n",
    "            'OKC' : '#007AC1', 'ORL' : '#0077C0', 'PHI' : '#006BB6', 'PHX' : '#1D1160', 'POR' : '#E03A3E', \n",
    "            'SAC' : '#5A2D81', 'SAS' : '#C4CED4', 'TOR' : '#CE1141', 'UTA' : '#002B5C', 'WAS' : '#002B5C'}"
   ]
  },
  {
   "cell_type": "code",
   "execution_count": 5,
   "metadata": {},
   "outputs": [],
   "source": [
    "colorsHexDf = pd.DataFrame(list(colorsHex.items()), columns=['Team', 'ColorHex'])"
   ]
  },
  {
   "cell_type": "code",
   "execution_count": 6,
   "metadata": {},
   "outputs": [
    {
     "data": {
      "text/html": [
       "<div>\n",
       "<style scoped>\n",
       "    .dataframe tbody tr th:only-of-type {\n",
       "        vertical-align: middle;\n",
       "    }\n",
       "\n",
       "    .dataframe tbody tr th {\n",
       "        vertical-align: top;\n",
       "    }\n",
       "\n",
       "    .dataframe thead th {\n",
       "        text-align: right;\n",
       "    }\n",
       "</style>\n",
       "<table border=\"1\" class=\"dataframe\">\n",
       "  <thead>\n",
       "    <tr style=\"text-align: right;\">\n",
       "      <th></th>\n",
       "      <th>Team</th>\n",
       "      <th>ColorHex</th>\n",
       "    </tr>\n",
       "  </thead>\n",
       "  <tbody>\n",
       "    <tr>\n",
       "      <th>0</th>\n",
       "      <td>ATL</td>\n",
       "      <td>#C8102E</td>\n",
       "    </tr>\n",
       "    <tr>\n",
       "      <th>1</th>\n",
       "      <td>BOS</td>\n",
       "      <td>#007A33</td>\n",
       "    </tr>\n",
       "    <tr>\n",
       "      <th>2</th>\n",
       "      <td>BKN</td>\n",
       "      <td>#000000</td>\n",
       "    </tr>\n",
       "    <tr>\n",
       "      <th>3</th>\n",
       "      <td>CHA</td>\n",
       "      <td>#1D1160</td>\n",
       "    </tr>\n",
       "    <tr>\n",
       "      <th>4</th>\n",
       "      <td>CHI</td>\n",
       "      <td>#CE1141</td>\n",
       "    </tr>\n",
       "  </tbody>\n",
       "</table>\n",
       "</div>"
      ],
      "text/plain": [
       "  Team ColorHex\n",
       "0  ATL  #C8102E\n",
       "1  BOS  #007A33\n",
       "2  BKN  #000000\n",
       "3  CHA  #1D1160\n",
       "4  CHI  #CE1141"
      ]
     },
     "execution_count": 6,
     "metadata": {},
     "output_type": "execute_result"
    }
   ],
   "source": [
    "colorsHexDf.head()"
   ]
  },
  {
   "cell_type": "code",
   "execution_count": 7,
   "metadata": {},
   "outputs": [],
   "source": [
    "teamColors = teamColors.merge(colorsHexDf[['Team', 'ColorHex']], left_on = 'abbreviation', right_on = 'Team')"
   ]
  },
  {
   "cell_type": "code",
   "execution_count": 8,
   "metadata": {},
   "outputs": [
    {
     "data": {
      "text/html": [
       "<div>\n",
       "<style scoped>\n",
       "    .dataframe tbody tr th:only-of-type {\n",
       "        vertical-align: middle;\n",
       "    }\n",
       "\n",
       "    .dataframe tbody tr th {\n",
       "        vertical-align: top;\n",
       "    }\n",
       "\n",
       "    .dataframe thead th {\n",
       "        text-align: right;\n",
       "    }\n",
       "</style>\n",
       "<table border=\"1\" class=\"dataframe\">\n",
       "  <thead>\n",
       "    <tr style=\"text-align: right;\">\n",
       "      <th></th>\n",
       "      <th>full_name</th>\n",
       "      <th>abbreviation</th>\n",
       "      <th>Team</th>\n",
       "      <th>ColorHex</th>\n",
       "    </tr>\n",
       "  </thead>\n",
       "  <tbody>\n",
       "    <tr>\n",
       "      <th>0</th>\n",
       "      <td>Atlanta Hawks</td>\n",
       "      <td>ATL</td>\n",
       "      <td>ATL</td>\n",
       "      <td>#C8102E</td>\n",
       "    </tr>\n",
       "    <tr>\n",
       "      <th>1</th>\n",
       "      <td>Boston Celtics</td>\n",
       "      <td>BOS</td>\n",
       "      <td>BOS</td>\n",
       "      <td>#007A33</td>\n",
       "    </tr>\n",
       "    <tr>\n",
       "      <th>2</th>\n",
       "      <td>Brooklyn Nets</td>\n",
       "      <td>BKN</td>\n",
       "      <td>BKN</td>\n",
       "      <td>#000000</td>\n",
       "    </tr>\n",
       "    <tr>\n",
       "      <th>3</th>\n",
       "      <td>Charlotte Hornets</td>\n",
       "      <td>CHA</td>\n",
       "      <td>CHA</td>\n",
       "      <td>#1D1160</td>\n",
       "    </tr>\n",
       "    <tr>\n",
       "      <th>4</th>\n",
       "      <td>Chicago Bulls</td>\n",
       "      <td>CHI</td>\n",
       "      <td>CHI</td>\n",
       "      <td>#CE1141</td>\n",
       "    </tr>\n",
       "  </tbody>\n",
       "</table>\n",
       "</div>"
      ],
      "text/plain": [
       "           full_name abbreviation Team ColorHex\n",
       "0      Atlanta Hawks          ATL  ATL  #C8102E\n",
       "1     Boston Celtics          BOS  BOS  #007A33\n",
       "2      Brooklyn Nets          BKN  BKN  #000000\n",
       "3  Charlotte Hornets          CHA  CHA  #1D1160\n",
       "4      Chicago Bulls          CHI  CHI  #CE1141"
      ]
     },
     "execution_count": 8,
     "metadata": {},
     "output_type": "execute_result"
    }
   ],
   "source": [
    "teamColors.head()"
   ]
  },
  {
   "cell_type": "code",
   "execution_count": 9,
   "metadata": {},
   "outputs": [],
   "source": [
    "teamColors.drop(columns = 'Team', axis = 1, inplace = True)"
   ]
  },
  {
   "cell_type": "code",
   "execution_count": 10,
   "metadata": {},
   "outputs": [],
   "source": [
    "teamColors.rename(columns = {'ColorHex' : 'colorHex'}, inplace = True)"
   ]
  },
  {
   "cell_type": "code",
   "execution_count": 11,
   "metadata": {},
   "outputs": [
    {
     "data": {
      "text/html": [
       "<div>\n",
       "<style scoped>\n",
       "    .dataframe tbody tr th:only-of-type {\n",
       "        vertical-align: middle;\n",
       "    }\n",
       "\n",
       "    .dataframe tbody tr th {\n",
       "        vertical-align: top;\n",
       "    }\n",
       "\n",
       "    .dataframe thead th {\n",
       "        text-align: right;\n",
       "    }\n",
       "</style>\n",
       "<table border=\"1\" class=\"dataframe\">\n",
       "  <thead>\n",
       "    <tr style=\"text-align: right;\">\n",
       "      <th></th>\n",
       "      <th>full_name</th>\n",
       "      <th>abbreviation</th>\n",
       "      <th>colorHex</th>\n",
       "    </tr>\n",
       "  </thead>\n",
       "  <tbody>\n",
       "    <tr>\n",
       "      <th>0</th>\n",
       "      <td>Atlanta Hawks</td>\n",
       "      <td>ATL</td>\n",
       "      <td>#C8102E</td>\n",
       "    </tr>\n",
       "    <tr>\n",
       "      <th>1</th>\n",
       "      <td>Boston Celtics</td>\n",
       "      <td>BOS</td>\n",
       "      <td>#007A33</td>\n",
       "    </tr>\n",
       "    <tr>\n",
       "      <th>2</th>\n",
       "      <td>Brooklyn Nets</td>\n",
       "      <td>BKN</td>\n",
       "      <td>#000000</td>\n",
       "    </tr>\n",
       "    <tr>\n",
       "      <th>3</th>\n",
       "      <td>Charlotte Hornets</td>\n",
       "      <td>CHA</td>\n",
       "      <td>#1D1160</td>\n",
       "    </tr>\n",
       "    <tr>\n",
       "      <th>4</th>\n",
       "      <td>Chicago Bulls</td>\n",
       "      <td>CHI</td>\n",
       "      <td>#CE1141</td>\n",
       "    </tr>\n",
       "  </tbody>\n",
       "</table>\n",
       "</div>"
      ],
      "text/plain": [
       "           full_name abbreviation colorHex\n",
       "0      Atlanta Hawks          ATL  #C8102E\n",
       "1     Boston Celtics          BOS  #007A33\n",
       "2      Brooklyn Nets          BKN  #000000\n",
       "3  Charlotte Hornets          CHA  #1D1160\n",
       "4      Chicago Bulls          CHI  #CE1141"
      ]
     },
     "execution_count": 11,
     "metadata": {},
     "output_type": "execute_result"
    }
   ],
   "source": [
    "teamColors.head()"
   ]
  },
  {
   "cell_type": "code",
   "execution_count": 14,
   "metadata": {},
   "outputs": [],
   "source": [
    "teamColors.to_csv('datasets/teamColors.csv')"
   ]
  },
  {
   "cell_type": "code",
   "execution_count": 12,
   "metadata": {},
   "outputs": [],
   "source": [
    "secondColor = {'ATL' : '#FDB927', 'BOS' : '#BA9653', 'BKN' : '#FFFFFF', 'CHA' : '#00788C', 'CHI' : '#000000', \n",
    "               'CLE' : '#041E42', 'DAL' : '#002B5E', 'DEN' : '#FEC524', 'DET' : '#1D42BA', 'GSW' : '#FFC72C',\n",
    "               'HOU' : '#000000', 'IND' : '#FDBB30', 'LAC' : '#1D428A', 'LAL' : '#FDB927', 'MEM' : '#12173F',\n",
    "               'MIA' : '#F9A01B', 'MIL' : '#EEE1C6', 'MIN' : '#236192', 'NOP' : '#C8102E', 'NYK' : '#F58426',\n",
    "               'OKC' : '#EF3B24', 'ORL' : '#C4CED4', 'PHI' : '#ED174C', 'PHX' : '#E56020', 'POR' : '#000000',\n",
    "               'SAC' : '#63727A', 'SAS' : '#000000', 'TOR' : '#000000', 'UTA' : '#00471B', 'WAS' : '#E31837'}"
   ]
  },
  {
   "cell_type": "code",
   "execution_count": 13,
   "metadata": {},
   "outputs": [],
   "source": [
    "color2df = pd.DataFrame(list(secondColor.items()), columns=['abbreviation', 'ColorHex2'])"
   ]
  },
  {
   "cell_type": "code",
   "execution_count": 14,
   "metadata": {},
   "outputs": [],
   "source": [
    "teamColors = teamColors.merge(color2df[['abbreviation', 'ColorHex2']], on = 'abbreviation')"
   ]
  },
  {
   "cell_type": "code",
   "execution_count": 15,
   "metadata": {},
   "outputs": [
    {
     "data": {
      "text/html": [
       "<div>\n",
       "<style scoped>\n",
       "    .dataframe tbody tr th:only-of-type {\n",
       "        vertical-align: middle;\n",
       "    }\n",
       "\n",
       "    .dataframe tbody tr th {\n",
       "        vertical-align: top;\n",
       "    }\n",
       "\n",
       "    .dataframe thead th {\n",
       "        text-align: right;\n",
       "    }\n",
       "</style>\n",
       "<table border=\"1\" class=\"dataframe\">\n",
       "  <thead>\n",
       "    <tr style=\"text-align: right;\">\n",
       "      <th></th>\n",
       "      <th>full_name</th>\n",
       "      <th>abbreviation</th>\n",
       "      <th>colorHex</th>\n",
       "      <th>ColorHex2</th>\n",
       "    </tr>\n",
       "  </thead>\n",
       "  <tbody>\n",
       "    <tr>\n",
       "      <th>0</th>\n",
       "      <td>Atlanta Hawks</td>\n",
       "      <td>ATL</td>\n",
       "      <td>#C8102E</td>\n",
       "      <td>#FDB927</td>\n",
       "    </tr>\n",
       "    <tr>\n",
       "      <th>1</th>\n",
       "      <td>Boston Celtics</td>\n",
       "      <td>BOS</td>\n",
       "      <td>#007A33</td>\n",
       "      <td>#BA9653</td>\n",
       "    </tr>\n",
       "    <tr>\n",
       "      <th>2</th>\n",
       "      <td>Brooklyn Nets</td>\n",
       "      <td>BKN</td>\n",
       "      <td>#000000</td>\n",
       "      <td>#FFFFFF</td>\n",
       "    </tr>\n",
       "    <tr>\n",
       "      <th>3</th>\n",
       "      <td>Charlotte Hornets</td>\n",
       "      <td>CHA</td>\n",
       "      <td>#1D1160</td>\n",
       "      <td>#00788C</td>\n",
       "    </tr>\n",
       "    <tr>\n",
       "      <th>4</th>\n",
       "      <td>Chicago Bulls</td>\n",
       "      <td>CHI</td>\n",
       "      <td>#CE1141</td>\n",
       "      <td>#000000</td>\n",
       "    </tr>\n",
       "  </tbody>\n",
       "</table>\n",
       "</div>"
      ],
      "text/plain": [
       "           full_name abbreviation colorHex ColorHex2\n",
       "0      Atlanta Hawks          ATL  #C8102E   #FDB927\n",
       "1     Boston Celtics          BOS  #007A33   #BA9653\n",
       "2      Brooklyn Nets          BKN  #000000   #FFFFFF\n",
       "3  Charlotte Hornets          CHA  #1D1160   #00788C\n",
       "4      Chicago Bulls          CHI  #CE1141   #000000"
      ]
     },
     "execution_count": 15,
     "metadata": {},
     "output_type": "execute_result"
    }
   ],
   "source": [
    "teamColors.head()"
   ]
  },
  {
   "cell_type": "code",
   "execution_count": 16,
   "metadata": {},
   "outputs": [],
   "source": [
    "teamColors.to_csv('datasets/teamColors.csv')"
   ]
  }
 ],
 "metadata": {
  "kernelspec": {
   "display_name": "stat386",
   "language": "python",
   "name": "python3"
  },
  "language_info": {
   "codemirror_mode": {
    "name": "ipython",
    "version": 3
   },
   "file_extension": ".py",
   "mimetype": "text/x-python",
   "name": "python",
   "nbconvert_exporter": "python",
   "pygments_lexer": "ipython3",
   "version": "3.10.12"
  },
  "orig_nbformat": 4,
  "vscode": {
   "interpreter": {
    "hash": "f3af26a2920dcb940287e58e6f96ecf1de4a3326403e094a8e18775537841363"
   }
  }
 },
 "nbformat": 4,
 "nbformat_minor": 2
}
