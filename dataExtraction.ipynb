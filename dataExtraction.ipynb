{
 "cells": [
  {
   "cell_type": "code",
   "execution_count": 2,
   "metadata": {},
   "outputs": [],
   "source": [
    "import pandas as pd\n",
    "import requests"
   ]
  },
  {
   "attachments": {},
   "cell_type": "markdown",
   "metadata": {},
   "source": [
    "## Get Teams"
   ]
  },
  {
   "cell_type": "code",
   "execution_count": null,
   "metadata": {},
   "outputs": [],
   "source": [
    "url = \"https://www.balldontlie.io/api/v1/teams\"\n",
    "r=requests.get(url)\n",
    "data = r.json()\n",
    "teams_df = pd.DataFrame(data['data'])\n",
    "teams_df.to_csv(\"teams.csv\")"
   ]
  },
  {
   "attachments": {},
   "cell_type": "markdown",
   "metadata": {},
   "source": [
    "## Get Players"
   ]
  },
  {
   "cell_type": "code",
   "execution_count": 3,
   "metadata": {},
   "outputs": [],
   "source": [
    "players_url = \"https://www.balldontlie.io/api/v1/players\"\n",
    "players_list = [] # create an empty df\n",
    "def get_page(number):\n",
    "    param = {\"page\" : number, \"per_page\" : 100} # define params based off of page number\n",
    "    r=requests.get(players_url, params = param)\n",
    "    # if the status is successful, we want to gather and clean the data\n",
    "    if r.status_code == 200:\n",
    "        # gather data\n",
    "        data = r.json()\n",
    "        df = pd.DataFrame(data['data'])\n",
    "        # clean to extract data from within inner dictionary\n",
    "        df['team_id'] = df['team'].apply(lambda x: x.get('id') if isinstance(x, dict) else None)\n",
    "        df['team_abr'] = df['team'].apply(lambda x: x.get('abbreviation') if isinstance(x, dict) else None)\n",
    "        df['city'] = df['team'].apply(lambda x: x.get('city') if isinstance(x, dict) else None)\n",
    "        df = df.drop('team', axis=1)\n",
    "        # now we want to save to the list\n",
    "        players_list.append(df)\n",
    "    # if the status gives an error, we would like to know what the error is\n",
    "    else: \n",
    "        return print(f'Status code error: {r.status_code}')"
   ]
  },
  {
   "cell_type": "code",
   "execution_count": 7,
   "metadata": {},
   "outputs": [],
   "source": [
    "# create all dfs using the function defined above\n",
    "for i in range(0, 51):\n",
    "    get_page(i)"
   ]
  },
  {
   "cell_type": "code",
   "execution_count": 8,
   "metadata": {},
   "outputs": [],
   "source": [
    "players_df = pd.concat(players_list, ignore_index=True) #concat all dfs in the list to one df\n",
    "players_df.to_csv(\"players.csv\")"
   ]
  },
  {
   "attachments": {},
   "cell_type": "markdown",
   "metadata": {},
   "source": [
    "## Get Games from 2022 Season "
   ]
  },
  {
   "cell_type": "code",
   "execution_count": 10,
   "metadata": {},
   "outputs": [],
   "source": [
    "games_url = \"https://www.balldontlie.io/api/v1/games\"\n",
    "games_list = [] # initialize empty list\n",
    "def get_page_game(number):\n",
    "    para = {\"page\" : number , \"per_page\" : 100, \"seasons[]\" : [2022]} # set parameters according to page number\n",
    "    r = requests.get(games_url, params = para)\n",
    "    r.status_code\n",
    "    data = r.json()\n",
    "    df = pd.DataFrame(data['data'])\n",
    "    # clean to extract data from within inner dictionary\n",
    "    df['home_team_id'] = df['home_team'].apply(lambda x: x.get('id') if isinstance(x, dict) else None)\n",
    "    df['visitor_team_id'] = df['visitor_team'].apply(lambda x: x.get('id') if isinstance(x, dict) else None)\n",
    "    df = df.drop(['home_team', 'visitor_team'], axis=1)\n",
    "    # concat to the DataFrame\n",
    "    games_list.append(df)\n",
    "for i in range(0, 15):\n",
    "    get_page_game(i)"
   ]
  },
  {
   "cell_type": "code",
   "execution_count": 11,
   "metadata": {},
   "outputs": [],
   "source": [
    "games_df = pd.concat(games_list, ignore_index=True)\n",
    "games_df.to_csv(\"games.csv\")"
   ]
  },
  {
   "attachments": {},
   "cell_type": "markdown",
   "metadata": {},
   "source": [
    "## Get game and player stats"
   ]
  },
  {
   "cell_type": "code",
   "execution_count": 13,
   "metadata": {},
   "outputs": [],
   "source": [
    "# put all game ids in a list\n",
    "game_ids = games_df['id']\n",
    "game_ids = game_ids.values.tolist()\n",
    "\n",
    "stats_url = \"https://www.balldontlie.io/api/v1/stats\"\n",
    "def get_game_stats(gameid):\n",
    "    para = {\"game_ids[]\" : gameid}\n",
    "    r = requests.get(stats_url, params = para)\n",
    "    data = r.json()\n",
    "    game_df = pd.DataFrame(data['data'])\n",
    "    game_df['game_id'] = game_df['game'].apply(lambda x: x.get('id') if isinstance(x, dict) else None)\n",
    "    game_df['player_id'] = game_df['player'].apply(lambda x: x.get('id') if isinstance(x, dict) else None)\n",
    "    game_df['team_id'] = game_df['team'].apply(lambda x: x.get('id') if isinstance(x, dict) else None)\n",
    "    game_df = game_df.drop(['game', 'player', 'team'], axis = 1)\n",
    "    return game_df\n"
   ]
  },
  {
   "attachments": {},
   "cell_type": "markdown",
   "metadata": {},
   "source": [
    "method 2: use time.sleep between each game pull"
   ]
  },
  {
   "cell_type": "code",
   "execution_count": 29,
   "metadata": {},
   "outputs": [],
   "source": [
    "all_stats = pd.DataFrame()"
   ]
  },
  {
   "cell_type": "code",
   "execution_count": 30,
   "metadata": {},
   "outputs": [],
   "source": [
    "for id in game_ids:\n",
    "    game_stat = get_game_stats(id)\n",
    "    all_stats = pd.concat([all_stats, game_stat], ignore_index=True)\n",
    "    time.sleep(1)"
   ]
  },
  {
   "cell_type": "code",
   "execution_count": 32,
   "metadata": {},
   "outputs": [],
   "source": [
    "all_stats.to_csv(\"stats.csv\", index = False)"
   ]
  }
 ],
 "metadata": {
  "kernelspec": {
   "display_name": "stat386",
   "language": "python",
   "name": "python3"
  },
  "language_info": {
   "codemirror_mode": {
    "name": "ipython",
    "version": 3
   },
   "file_extension": ".py",
   "mimetype": "text/x-python",
   "name": "python",
   "nbconvert_exporter": "python",
   "pygments_lexer": "ipython3",
   "version": "3.10.12 (main, Jul  5 2023, 15:02:25) [Clang 14.0.6 ]"
  },
  "orig_nbformat": 4,
  "vscode": {
   "interpreter": {
    "hash": "f3af26a2920dcb940287e58e6f96ecf1de4a3326403e094a8e18775537841363"
   }
  }
 },
 "nbformat": 4,
 "nbformat_minor": 2
}
