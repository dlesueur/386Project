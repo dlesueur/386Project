{
 "cells": [
  {
   "cell_type": "code",
   "execution_count": 2,
   "metadata": {},
   "outputs": [],
   "source": [
    "import pandas as pd\n",
    "import numpy as np\n",
    "import seaborn as sns\n",
    "import requests\n",
    "import re\n",
    "import time\n",
    "import matplotlib.pyplot as plt"
   ]
  },
  {
   "attachments": {},
   "cell_type": "markdown",
   "metadata": {},
   "source": [
    "## Get Teams"
   ]
  },
  {
   "cell_type": "code",
   "execution_count": 3,
   "metadata": {},
   "outputs": [
    {
     "data": {
      "text/plain": [
       "200"
      ]
     },
     "execution_count": 3,
     "metadata": {},
     "output_type": "execute_result"
    }
   ],
   "source": [
    "url = \"https://www.balldontlie.io/api/v1/teams\"\n",
    "\n",
    "r=requests.get(url)\n",
    "r.status_code"
   ]
  },
  {
   "cell_type": "code",
   "execution_count": 4,
   "metadata": {},
   "outputs": [],
   "source": [
    "data = r.json()\n",
    "teams_df = pd.DataFrame(data['data'])\n",
    "teams_df.to_csv(\"teams\") # to view easily"
   ]
  },
  {
   "attachments": {},
   "cell_type": "markdown",
   "metadata": {},
   "source": [
    "## Get Players"
   ]
  },
  {
   "cell_type": "code",
   "execution_count": 3,
   "metadata": {},
   "outputs": [],
   "source": [
    "players_url = \"https://www.balldontlie.io/api/v1/players\"\n",
    "players_df = pd.DataFrame() # create an empty df\n",
    "def get_page(number):\n",
    "    param = {\"page\" : number, \"per_page\" : 100} # define params based off of page number\n",
    "    r=requests.get(players_url, params = param)\n",
    "    # if the status is successful, we want to gather and clean the data\n",
    "    if r.status_code == 200:\n",
    "        # gather data\n",
    "        data = r.json()\n",
    "        df = pd.DataFrame(data['data'])\n",
    "        # clean to extract data from within inner dictionary\n",
    "        df['team_id'] = df['team'].apply(lambda x: x.get('id') if isinstance(x, dict) else None)\n",
    "        df['team_abr'] = df['team'].apply(lambda x: x.get('abbreviation') if isinstance(x, dict) else None)\n",
    "        df['city'] = df['team'].apply(lambda x: x.get('city') if isinstance(x, dict) else None)\n",
    "        df = df.drop('team', axis=1)\n",
    "        # now we want to save to a df\n",
    "        players_df = players_df.concat(df, ignore_index = True)\n",
    "    # if the status gives an error, we would like to know what the error is\n",
    "    else: \n",
    "        return print(f'Status code error: {r.status_code}')"
   ]
  },
  {
   "cell_type": "code",
   "execution_count": 7,
   "metadata": {},
   "outputs": [],
   "source": [
    "# create all dfs using the function defined above\n",
    "for i in range(0, 51):\n",
    "    get_page(i)"
   ]
  },
  {
   "cell_type": "code",
   "execution_count": 8,
   "metadata": {},
   "outputs": [],
   "source": [
    "players_df = pd.concat(dfs_list, ignore_index=True)\n",
    "players_df.to_csv(\"players\") # to be able to read it easily haha"
   ]
  },
  {
   "attachments": {},
   "cell_type": "markdown",
   "metadata": {},
   "source": [
    "## Get Games from 2022 Season "
   ]
  },
  {
   "cell_type": "code",
   "execution_count": 9,
   "metadata": {},
   "outputs": [
    {
     "data": {
      "text/plain": [
       "200"
      ]
     },
     "execution_count": 9,
     "metadata": {},
     "output_type": "execute_result"
    }
   ],
   "source": [
    "games_url = \"https://www.balldontlie.io/api/v1/games\"\n",
    "r = requests.get(games_url)\n",
    "r.status_code"
   ]
  },
  {
   "cell_type": "code",
   "execution_count": 10,
   "metadata": {},
   "outputs": [],
   "source": [
    "games_url = \"https://www.balldontlie.io/api/v1/games\"\n",
    "games_df = pd.DataFrame() # initialize empty data frame\n",
    "def get_page_game(number):\n",
    "    para = {\"page\" : number , \"per_page\" : 100, \"seasons[]\" : [2022]} # set parameters according to page number\n",
    "    r = requests.get(games_url, params = para)\n",
    "    r.status_code\n",
    "    data = r.json()\n",
    "    df = pd.DataFrame(data['data'])\n",
    "    # clean to extract data from within inner dictionary\n",
    "    df['home_team_id'] = df['home_team'].apply(lambda x: x.get('id') if isinstance(x, dict) else None)\n",
    "    df['visitor_team_id'] = df['visitor_team'].apply(lambda x: x.get('id') if isinstance(x, dict) else None)\n",
    "    df = df.drop(['home_team', 'visitor_team'], axis=1)\n",
    "    # concat to the DataFrame\n",
    "    games_df = games_df.concat(df, ignore_index = True))\n",
    "for i in range(0, 15):\n",
    "    get_page_game(i)"
   ]
  },
  {
   "cell_type": "code",
   "execution_count": 11,
   "metadata": {},
   "outputs": [],
   "source": [
    "games_df = pd.concat(games_list, ignore_index=True)\n",
    "games_df.to_csv(\"games\")"
   ]
  },
  {
   "cell_type": "code",
   "execution_count": 12,
   "metadata": {},
   "outputs": [
    {
     "data": {
      "text/html": [
       "<div>\n",
       "<style scoped>\n",
       "    .dataframe tbody tr th:only-of-type {\n",
       "        vertical-align: middle;\n",
       "    }\n",
       "\n",
       "    .dataframe tbody tr th {\n",
       "        vertical-align: top;\n",
       "    }\n",
       "\n",
       "    .dataframe thead th {\n",
       "        text-align: right;\n",
       "    }\n",
       "</style>\n",
       "<table border=\"1\" class=\"dataframe\">\n",
       "  <thead>\n",
       "    <tr style=\"text-align: right;\">\n",
       "      <th></th>\n",
       "      <th>id</th>\n",
       "      <th>date</th>\n",
       "      <th>home_team_score</th>\n",
       "      <th>period</th>\n",
       "      <th>postseason</th>\n",
       "      <th>season</th>\n",
       "      <th>status</th>\n",
       "      <th>time</th>\n",
       "      <th>visitor_team_score</th>\n",
       "      <th>home_team_id</th>\n",
       "      <th>visitor_team_id</th>\n",
       "    </tr>\n",
       "  </thead>\n",
       "  <tbody>\n",
       "    <tr>\n",
       "      <th>0</th>\n",
       "      <td>857369</td>\n",
       "      <td>2022-10-20T00:00:00.000Z</td>\n",
       "      <td>97</td>\n",
       "      <td>4</td>\n",
       "      <td>False</td>\n",
       "      <td>2022</td>\n",
       "      <td>Final</td>\n",
       "      <td>Final</td>\n",
       "      <td>103</td>\n",
       "      <td>14</td>\n",
       "      <td>13</td>\n",
       "    </tr>\n",
       "    <tr>\n",
       "      <th>1</th>\n",
       "      <td>857370</td>\n",
       "      <td>2022-10-20T00:00:00.000Z</td>\n",
       "      <td>88</td>\n",
       "      <td>4</td>\n",
       "      <td>False</td>\n",
       "      <td>2022</td>\n",
       "      <td>Final</td>\n",
       "      <td>Final</td>\n",
       "      <td>90</td>\n",
       "      <td>23</td>\n",
       "      <td>17</td>\n",
       "    </tr>\n",
       "    <tr>\n",
       "      <th>2</th>\n",
       "      <td>857381</td>\n",
       "      <td>2022-10-21T00:00:00.000Z</td>\n",
       "      <td>113</td>\n",
       "      <td>5</td>\n",
       "      <td>False</td>\n",
       "      <td>2022</td>\n",
       "      <td>Final</td>\n",
       "      <td>Final</td>\n",
       "      <td>111</td>\n",
       "      <td>25</td>\n",
       "      <td>24</td>\n",
       "    </tr>\n",
       "    <tr>\n",
       "      <th>3</th>\n",
       "      <td>857374</td>\n",
       "      <td>2022-10-21T00:00:00.000Z</td>\n",
       "      <td>102</td>\n",
       "      <td>4</td>\n",
       "      <td>False</td>\n",
       "      <td>2022</td>\n",
       "      <td>Final</td>\n",
       "      <td>Final</td>\n",
       "      <td>100</td>\n",
       "      <td>30</td>\n",
       "      <td>5</td>\n",
       "    </tr>\n",
       "    <tr>\n",
       "      <th>4</th>\n",
       "      <td>857376</td>\n",
       "      <td>2022-10-21T00:00:00.000Z</td>\n",
       "      <td>122</td>\n",
       "      <td>4</td>\n",
       "      <td>False</td>\n",
       "      <td>2022</td>\n",
       "      <td>Final</td>\n",
       "      <td>Final</td>\n",
       "      <td>129</td>\n",
       "      <td>11</td>\n",
       "      <td>15</td>\n",
       "    </tr>\n",
       "  </tbody>\n",
       "</table>\n",
       "</div>"
      ],
      "text/plain": [
       "       id                      date  home_team_score  period  postseason  \\\n",
       "0  857369  2022-10-20T00:00:00.000Z               97       4       False   \n",
       "1  857370  2022-10-20T00:00:00.000Z               88       4       False   \n",
       "2  857381  2022-10-21T00:00:00.000Z              113       5       False   \n",
       "3  857374  2022-10-21T00:00:00.000Z              102       4       False   \n",
       "4  857376  2022-10-21T00:00:00.000Z              122       4       False   \n",
       "\n",
       "   season status   time  visitor_team_score  home_team_id  visitor_team_id  \n",
       "0    2022  Final  Final                 103            14               13  \n",
       "1    2022  Final  Final                  90            23               17  \n",
       "2    2022  Final  Final                 111            25               24  \n",
       "3    2022  Final  Final                 100            30                5  \n",
       "4    2022  Final  Final                 129            11               15  "
      ]
     },
     "execution_count": 12,
     "metadata": {},
     "output_type": "execute_result"
    }
   ],
   "source": [
    "games_df.head()"
   ]
  },
  {
   "attachments": {},
   "cell_type": "markdown",
   "metadata": {},
   "source": [
    "## Get game and player stats"
   ]
  },
  {
   "cell_type": "code",
   "execution_count": 13,
   "metadata": {},
   "outputs": [],
   "source": [
    "# put all game ids in a list\n",
    "game_ids = games_df['id']\n",
    "game_ids = game_ids.values.tolist()\n",
    "\n",
    "stats_url = \"https://www.balldontlie.io/api/v1/stats\"\n",
    "def get_game_stats(gameid):\n",
    "    para = {\"game_ids[]\" : gameid}\n",
    "    r = requests.get(stats_url, params = para)\n",
    "    data = r.json()\n",
    "    game_df = pd.DataFrame(data['data'])\n",
    "    game_df['game_id'] = game_df['game'].apply(lambda x: x.get('id') if isinstance(x, dict) else None)\n",
    "    game_df['player_id'] = game_df['player'].apply(lambda x: x.get('id') if isinstance(x, dict) else None)\n",
    "    game_df['team_id'] = game_df['team'].apply(lambda x: x.get('id') if isinstance(x, dict) else None)\n",
    "    game_df = game_df.drop(['game', 'player', 'team'], axis = 1)\n",
    "    return game_df\n",
    "\n",
    "# batch_size = 10  # Adjust this value based on your needs\n",
    "\n",
    "# # Process game_ids in batches\n",
    "# all_game_stats = pd.DataFrame()\n",
    "# for i in range(0, len(game_ids), batch_size):\n",
    "#     batch_game_ids = game_ids[i:i + batch_size]\n",
    "#     batch_stats = get_game_stats(batch_game_ids)\n",
    "#     all_game_stats = pd.concat([all_game_stats, batch_stats], ignore_index=True)\n",
    "\n",
    "# print(all_game_stats.shape)\n",
    "\n"
   ]
  },
  {
   "attachments": {},
   "cell_type": "markdown",
   "metadata": {},
   "source": [
    "method 1: Create Batches"
   ]
  },
  {
   "cell_type": "code",
   "execution_count": null,
   "metadata": {},
   "outputs": [],
   "source": [
    "batch_size = 20\n",
    "\n",
    "all_batches = []\n",
    "\n",
    "for i in range(0, len(game_ids), batch_size):\n",
    "    batch = game_ids[i:i + batch_size]\n",
    "    all_batches.append(batch)\n"
   ]
  },
  {
   "cell_type": "code",
   "execution_count": null,
   "metadata": {},
   "outputs": [],
   "source": [
    "all_game_stats = pd.DataFrame()\n",
    "for batch in all_batches:\n",
    "    game_stat = get_game_stats(id)\n",
    "    all_game_stats = pd.concat([all_game_stats, game_stat], ignore_index = True)\n",
    "\n",
    "    time.sleep(10)\n"
   ]
  },
  {
   "cell_type": "code",
   "execution_count": null,
   "metadata": {},
   "outputs": [],
   "source": [
    "all_game_stats.to_csv(\"allgamestats\")"
   ]
  },
  {
   "attachments": {},
   "cell_type": "markdown",
   "metadata": {},
   "source": [
    "method 2: use time.sleep between each game pull"
   ]
  },
  {
   "cell_type": "code",
   "execution_count": 29,
   "metadata": {},
   "outputs": [],
   "source": [
    "all_stats = pd.DataFrame()"
   ]
  },
  {
   "cell_type": "code",
   "execution_count": 30,
   "metadata": {},
   "outputs": [],
   "source": [
    "for id in game_ids:\n",
    "    game_stat = get_game_stats(id)\n",
    "    all_stats = pd.concat([all_stats, game_stat], ignore_index=True)\n",
    "    time.sleep(1)"
   ]
  },
  {
   "cell_type": "code",
   "execution_count": 32,
   "metadata": {},
   "outputs": [],
   "source": [
    "all_stats.to_csv(\"all_game_stats.csv\", index = False)"
   ]
  },
  {
   "cell_type": "code",
   "execution_count": null,
   "metadata": {},
   "outputs": [],
   "source": []
  },
  {
   "attachments": {},
   "cell_type": "markdown",
   "metadata": {},
   "source": [
    "## Distribution of Points "
   ]
  },
  {
   "cell_type": "code",
   "execution_count": null,
   "metadata": {},
   "outputs": [
    {
     "data": {
      "image/png": "[encoded data removed]",
      "text/plain": [
       "<Figure size 640x480 with 1 Axes>"
      ]
     },
     "metadata": {},
     "output_type": "display_data"
    }
   ],
   "source": [
    "sns.histplot([games_df['home_team_score'],games_df['visitor_team_score']], binwidth = 4, palette=\"Set3\" )\n",
    "plt.savefig(\"scores_distribution.png\")"
   ]
  }
 ],
 "metadata": {
  "kernelspec": {
   "display_name": "stat386",
   "language": "python",
   "name": "python3"
  },
  "language_info": {
   "codemirror_mode": {
    "name": "ipython",
    "version": 3
   },
   "file_extension": ".py",
   "mimetype": "text/x-python",
   "name": "python",
   "nbconvert_exporter": "python",
   "pygments_lexer": "ipython3",
   "version": "3.10.12"
  },
  "orig_nbformat": 4,
  "vscode": {
   "interpreter": {
    "hash": "f3af26a2920dcb940287e58e6f96ecf1de4a3326403e094a8e18775537841363"
   }
  }
 },
 "nbformat": 4,
 "nbformat_minor": 2
}
