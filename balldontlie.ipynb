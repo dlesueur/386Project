{
 "cells": [
  {
   "cell_type": "code",
   "execution_count": 2,
   "metadata": {},
   "outputs": [],
   "source": [
    "import pandas as pd\n",
    "import numpy as np\n",
    "import seaborn as sns\n",
    "import requests\n",
    "import re"
   ]
  },
  {
   "attachments": {},
   "cell_type": "markdown",
   "metadata": {},
   "source": [
    "## Get Teams"
   ]
  },
  {
   "cell_type": "code",
   "execution_count": 11,
   "metadata": {},
   "outputs": [
    {
     "data": {
      "text/plain": [
       "200"
      ]
     },
     "execution_count": 11,
     "metadata": {},
     "output_type": "execute_result"
    }
   ],
   "source": [
    "url = \"https://www.balldontlie.io/api/v1/teams\"\n",
    "\n",
    "r=requests.get(url)\n",
    "r.status_code"
   ]
  },
  {
   "cell_type": "code",
   "execution_count": 12,
   "metadata": {},
   "outputs": [],
   "source": [
    "data = r.json()\n",
    "teams_df = pd.DataFrame(data['data'])\n",
    "teams_df.to_csv(\"teams\") # to view easily"
   ]
  },
  {
   "attachments": {},
   "cell_type": "markdown",
   "metadata": {},
   "source": [
    "## Get Players"
   ]
  },
  {
   "cell_type": "code",
   "execution_count": 28,
   "metadata": {},
   "outputs": [],
   "source": [
    "players_url = \"https://www.balldontlie.io/api/v1/players\"\n",
    "dfs_list = []\n",
    "def get_page(number):\n",
    "    param = {\"page\" : number, \"per_page\" : 100}\n",
    "    r=requests.get(players_url, params = param)\n",
    "    # if the status is successful, we want to gather and clean the data\n",
    "    if r.status_code == 200:\n",
    "        # gather data\n",
    "        data = r.json()\n",
    "        players_df = pd.DataFrame(data['data'])\n",
    "        # clean data\n",
    "        players_df['team_id'] = players_df['team'].apply(lambda x: x.get('id') if isinstance(x, dict) else None)\n",
    "        players_df['team_abr'] = players_df['team'].apply(lambda x: x.get('abbreviation') if isinstance(x, dict) else None)\n",
    "        players_df['city'] = players_df['team'].apply(lambda x: x.get('city') if isinstance(x, dict) else None)\n",
    "        players_df = players_df.drop('team', axis=1)\n",
    "        # now we want to save to a list\n",
    "        dfs_list.append(players_df)\n",
    "    # if the status gives an error, we would like to know what the error is\n",
    "    else: \n",
    "        return print(f'Status code error: {r.status_code}')"
   ]
  },
  {
   "cell_type": "code",
   "execution_count": 29,
   "metadata": {},
   "outputs": [],
   "source": [
    "# create all dfs using the function defined above\n",
    "for i in range(0, 51):\n",
    "    get_page(i)"
   ]
  },
  {
   "cell_type": "code",
   "execution_count": 33,
   "metadata": {},
   "outputs": [],
   "source": [
    "players_df = pd.concat(dfs_list, ignore_index=True)\n",
    "players_df.to_csv(\"players\") # to be able to read it easily haha"
   ]
  }
 ],
 "metadata": {
  "kernelspec": {
   "display_name": "stat386",
   "language": "python",
   "name": "python3"
  },
  "language_info": {
   "codemirror_mode": {
    "name": "ipython",
    "version": 3
   },
   "file_extension": ".py",
   "mimetype": "text/x-python",
   "name": "python",
   "nbconvert_exporter": "python",
   "pygments_lexer": "ipython3",
   "version": "3.10.12"
  },
  "orig_nbformat": 4,
  "vscode": {
   "interpreter": {
    "hash": "f3af26a2920dcb940287e58e6f96ecf1de4a3326403e094a8e18775537841363"
   }
  }
 },
 "nbformat": 4,
 "nbformat_minor": 2
}
