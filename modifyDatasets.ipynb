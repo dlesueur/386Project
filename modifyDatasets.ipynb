{
 "cells": [
  {
   "attachments": {},
   "cell_type": "markdown",
   "metadata": {},
   "source": [
    "This python notebook file contains the code I used to modify the datasets. Mostly merges and drops of columns to perform the EDAs I was interested in. "
   ]
  },
  {
   "cell_type": "code",
   "execution_count": 19,
   "metadata": {},
   "outputs": [],
   "source": [
    "import pandas as pd\n",
    "import numpy as np"
   ]
  },
  {
   "cell_type": "code",
   "execution_count": 20,
   "metadata": {},
   "outputs": [],
   "source": [
    "# import existing datasets \n",
    "games = pd.read_csv(\"datasets/games.csv\")\n",
    "players = pd.read_csv(\"datasets/players.csv\")\n",
    "stats = pd.read_csv(\"datasets/stats.csv\")\n",
    "teams = pd.read_csv(\"datasets/teams.csv\")"
   ]
  },
  {
   "attachments": {},
   "cell_type": "markdown",
   "metadata": {},
   "source": [
    "## Add team name to games"
   ]
  },
  {
   "cell_type": "code",
   "execution_count": 21,
   "metadata": {},
   "outputs": [],
   "source": [
    "games = games.merge(teams[['id', 'abbreviation']], left_on = 'home_team_id', right_on = 'id', how = \"left\")"
   ]
  },
  {
   "cell_type": "code",
   "execution_count": 22,
   "metadata": {},
   "outputs": [],
   "source": [
    "games.rename(columns = {'id_x' : 'id', 'abbreviation' : 'home_team_abr'}, inplace = True)\n",
    "games.drop(columns = ['Unnamed: 0', 'id_y'], inplace = True)"
   ]
  },
  {
   "cell_type": "code",
   "execution_count": 23,
   "metadata": {},
   "outputs": [],
   "source": [
    "games = games.merge(teams[['id', 'abbreviation']], left_on = 'visitor_team_id', right_on = 'id', how = \"left\")"
   ]
  },
  {
   "cell_type": "code",
   "execution_count": 24,
   "metadata": {},
   "outputs": [
    {
     "data": {
      "text/html": [
       "<div>\n",
       "<style scoped>\n",
       "    .dataframe tbody tr th:only-of-type {\n",
       "        vertical-align: middle;\n",
       "    }\n",
       "\n",
       "    .dataframe tbody tr th {\n",
       "        vertical-align: top;\n",
       "    }\n",
       "\n",
       "    .dataframe thead th {\n",
       "        text-align: right;\n",
       "    }\n",
       "</style>\n",
       "<table border=\"1\" class=\"dataframe\">\n",
       "  <thead>\n",
       "    <tr style=\"text-align: right;\">\n",
       "      <th></th>\n",
       "      <th>id</th>\n",
       "      <th>date</th>\n",
       "      <th>home_team_score</th>\n",
       "      <th>period</th>\n",
       "      <th>postseason</th>\n",
       "      <th>season</th>\n",
       "      <th>status</th>\n",
       "      <th>time</th>\n",
       "      <th>visitor_team_score</th>\n",
       "      <th>home_team_id</th>\n",
       "      <th>visitor_team_id</th>\n",
       "      <th>home_team_abr</th>\n",
       "      <th>visitor_team_abr</th>\n",
       "      <th>home_team_abr.1</th>\n",
       "      <th>visitor_team_abr.1</th>\n",
       "      <th>home_team_abr.2</th>\n",
       "      <th>visitor_team_abr.2</th>\n",
       "      <th>home_team_abr</th>\n",
       "      <th>visitor_team_abr</th>\n",
       "    </tr>\n",
       "  </thead>\n",
       "  <tbody>\n",
       "    <tr>\n",
       "      <th>0</th>\n",
       "      <td>857369</td>\n",
       "      <td>2022-10-20T00:00:00.000Z</td>\n",
       "      <td>97</td>\n",
       "      <td>4</td>\n",
       "      <td>False</td>\n",
       "      <td>2022</td>\n",
       "      <td>Final</td>\n",
       "      <td>Final</td>\n",
       "      <td>103</td>\n",
       "      <td>14</td>\n",
       "      <td>13</td>\n",
       "      <td>LAL</td>\n",
       "      <td>LAC</td>\n",
       "      <td>LAL</td>\n",
       "      <td>LAC</td>\n",
       "      <td>LAL</td>\n",
       "      <td>LAC</td>\n",
       "      <td>LAL</td>\n",
       "      <td>LAC</td>\n",
       "    </tr>\n",
       "    <tr>\n",
       "      <th>1</th>\n",
       "      <td>857370</td>\n",
       "      <td>2022-10-20T00:00:00.000Z</td>\n",
       "      <td>88</td>\n",
       "      <td>4</td>\n",
       "      <td>False</td>\n",
       "      <td>2022</td>\n",
       "      <td>Final</td>\n",
       "      <td>Final</td>\n",
       "      <td>90</td>\n",
       "      <td>23</td>\n",
       "      <td>17</td>\n",
       "      <td>PHI</td>\n",
       "      <td>MIL</td>\n",
       "      <td>PHI</td>\n",
       "      <td>MIL</td>\n",
       "      <td>PHI</td>\n",
       "      <td>MIL</td>\n",
       "      <td>PHI</td>\n",
       "      <td>MIL</td>\n",
       "    </tr>\n",
       "    <tr>\n",
       "      <th>2</th>\n",
       "      <td>857381</td>\n",
       "      <td>2022-10-21T00:00:00.000Z</td>\n",
       "      <td>113</td>\n",
       "      <td>5</td>\n",
       "      <td>False</td>\n",
       "      <td>2022</td>\n",
       "      <td>Final</td>\n",
       "      <td>Final</td>\n",
       "      <td>111</td>\n",
       "      <td>25</td>\n",
       "      <td>24</td>\n",
       "      <td>POR</td>\n",
       "      <td>PHX</td>\n",
       "      <td>POR</td>\n",
       "      <td>PHX</td>\n",
       "      <td>POR</td>\n",
       "      <td>PHX</td>\n",
       "      <td>POR</td>\n",
       "      <td>PHX</td>\n",
       "    </tr>\n",
       "    <tr>\n",
       "      <th>3</th>\n",
       "      <td>857374</td>\n",
       "      <td>2022-10-21T00:00:00.000Z</td>\n",
       "      <td>102</td>\n",
       "      <td>4</td>\n",
       "      <td>False</td>\n",
       "      <td>2022</td>\n",
       "      <td>Final</td>\n",
       "      <td>Final</td>\n",
       "      <td>100</td>\n",
       "      <td>30</td>\n",
       "      <td>5</td>\n",
       "      <td>WAS</td>\n",
       "      <td>CHI</td>\n",
       "      <td>WAS</td>\n",
       "      <td>CHI</td>\n",
       "      <td>WAS</td>\n",
       "      <td>CHI</td>\n",
       "      <td>WAS</td>\n",
       "      <td>CHI</td>\n",
       "    </tr>\n",
       "    <tr>\n",
       "      <th>4</th>\n",
       "      <td>857376</td>\n",
       "      <td>2022-10-21T00:00:00.000Z</td>\n",
       "      <td>122</td>\n",
       "      <td>4</td>\n",
       "      <td>False</td>\n",
       "      <td>2022</td>\n",
       "      <td>Final</td>\n",
       "      <td>Final</td>\n",
       "      <td>129</td>\n",
       "      <td>11</td>\n",
       "      <td>15</td>\n",
       "      <td>HOU</td>\n",
       "      <td>MEM</td>\n",
       "      <td>HOU</td>\n",
       "      <td>MEM</td>\n",
       "      <td>HOU</td>\n",
       "      <td>MEM</td>\n",
       "      <td>HOU</td>\n",
       "      <td>MEM</td>\n",
       "    </tr>\n",
       "  </tbody>\n",
       "</table>\n",
       "</div>"
      ],
      "text/plain": [
       "       id                      date  home_team_score  period  postseason  \\\n",
       "0  857369  2022-10-20T00:00:00.000Z               97       4       False   \n",
       "1  857370  2022-10-20T00:00:00.000Z               88       4       False   \n",
       "2  857381  2022-10-21T00:00:00.000Z              113       5       False   \n",
       "3  857374  2022-10-21T00:00:00.000Z              102       4       False   \n",
       "4  857376  2022-10-21T00:00:00.000Z              122       4       False   \n",
       "\n",
       "   season status   time  visitor_team_score  home_team_id  visitor_team_id  \\\n",
       "0    2022  Final  Final                 103            14               13   \n",
       "1    2022  Final  Final                  90            23               17   \n",
       "2    2022  Final  Final                 111            25               24   \n",
       "3    2022  Final  Final                 100            30                5   \n",
       "4    2022  Final  Final                 129            11               15   \n",
       "\n",
       "  home_team_abr visitor_team_abr home_team_abr.1 visitor_team_abr.1  \\\n",
       "0           LAL              LAC             LAL                LAC   \n",
       "1           PHI              MIL             PHI                MIL   \n",
       "2           POR              PHX             POR                PHX   \n",
       "3           WAS              CHI             WAS                CHI   \n",
       "4           HOU              MEM             HOU                MEM   \n",
       "\n",
       "  home_team_abr.2 visitor_team_abr.2 home_team_abr visitor_team_abr  \n",
       "0             LAL                LAC           LAL              LAC  \n",
       "1             PHI                MIL           PHI              MIL  \n",
       "2             POR                PHX           POR              PHX  \n",
       "3             WAS                CHI           WAS              CHI  \n",
       "4             HOU                MEM           HOU              MEM  "
      ]
     },
     "execution_count": 24,
     "metadata": {},
     "output_type": "execute_result"
    }
   ],
   "source": [
    "games.rename(columns = {'id_x' : 'id', 'abbreviation' : 'visitor_team_abr'}, inplace = True)\n",
    "games.drop(columns = ['id_y'], inplace = True)\n",
    "games.head()"
   ]
  },
  {
   "cell_type": "code",
   "execution_count": 25,
   "metadata": {},
   "outputs": [],
   "source": [
    "games.to_csv(\"datasets/games.csv\")"
   ]
  },
  {
   "attachments": {},
   "cell_type": "markdown",
   "metadata": {},
   "source": [
    "# Add total height in inches to players dataset"
   ]
  },
  {
   "cell_type": "code",
   "execution_count": 26,
   "metadata": {},
   "outputs": [],
   "source": [
    "players['height'] = players['height_feet']*12 + players['height_inches']\n",
    "players.to_csv(\"datasets/players.csv\")"
   ]
  },
  {
   "attachments": {},
   "cell_type": "markdown",
   "metadata": {},
   "source": [
    "# Add position to stats dataset"
   ]
  },
  {
   "cell_type": "code",
   "execution_count": 32,
   "metadata": {},
   "outputs": [],
   "source": [
    "stats = stats.merge(players[['id', 'position']], how = \"left\", left_on = 'player_id', right_on = 'id')"
   ]
  },
  {
   "cell_type": "code",
   "execution_count": 33,
   "metadata": {},
   "outputs": [],
   "source": [
    "stats.drop(columns = ['id_y'], axis = 1, inplace=True)"
   ]
  },
  {
   "cell_type": "code",
   "execution_count": 34,
   "metadata": {},
   "outputs": [],
   "source": [
    "stats.to_csv(\"datasets/stats.csv\")"
   ]
  },
  {
   "attachments": {},
   "cell_type": "markdown",
   "metadata": {},
   "source": [
    "# Drop stats of players who played 0 minutes"
   ]
  },
  {
   "cell_type": "code",
   "execution_count": 35,
   "metadata": {},
   "outputs": [],
   "source": [
    "stats = stats[stats['min']!=0]"
   ]
  },
  {
   "cell_type": "code",
   "execution_count": 36,
   "metadata": {},
   "outputs": [],
   "source": [
    "stats.to_csv(\"datasets/stats.csv\")"
   ]
  },
  {
   "cell_type": "code",
   "execution_count": 39,
   "metadata": {},
   "outputs": [
    {
     "name": "stdout",
     "output_type": "stream",
     "text": [
      "      game_id  team_id  points  opponent_points  postseason\n",
      "2532   858534        1     123              105       False\n",
      "1847   858116        1     125              129       False\n",
      "791    857528        1     104               95       False\n",
      "790    857516        1     119              125       False\n",
      "2753   891700        1      99              112        True\n",
      "...       ...      ...     ...              ...         ...\n",
      "1785   857648       30     121              130       False\n",
      "981    858250       30     109              115       False\n",
      "159    858201       30     127              113       False\n",
      "2642   857737       30     111              121       False\n",
      "684    858325       30     111              117       False\n",
      "\n",
      "[2840 rows x 5 columns]\n"
     ]
    }
   ],
   "source": [
    "home_df = games[['id', 'home_team_id', 'home_team_score', 'visitor_team_score', 'postseason']]\n",
    "home_df.columns = ['game_id', 'team_id', 'points', 'opponent_points', 'postseason']\n",
    "\n",
    "# Create a new DataFrame for visitor teams\n",
    "visitor_df = games[['id', 'visitor_team_id', 'visitor_team_score', 'home_team_score', 'postseason']]\n",
    "visitor_df.columns = ['game_id', 'team_id', 'points', 'opponent_points', 'postseason']\n",
    "\n",
    "# Concatenate both DataFrames\n",
    "game_points = pd.concat([home_df, visitor_df], ignore_index=True)\n",
    "\n",
    "# Sort the DataFrame by team_id for better visualization\n",
    "game_points.sort_values(by='team_id', inplace=True)\n",
    "\n",
    "print(game_points)\n",
    "game_points.to_csv(\"datasets/team_points.csv\")"
   ]
  }
 ],
 "metadata": {
  "kernelspec": {
   "display_name": "stat386",
   "language": "python",
   "name": "python3"
  },
  "language_info": {
   "codemirror_mode": {
    "name": "ipython",
    "version": 3
   },
   "file_extension": ".py",
   "mimetype": "text/x-python",
   "name": "python",
   "nbconvert_exporter": "python",
   "pygments_lexer": "ipython3",
   "version": "3.10.12"
  },
  "orig_nbformat": 4,
  "vscode": {
   "interpreter": {
    "hash": "f3af26a2920dcb940287e58e6f96ecf1de4a3326403e094a8e18775537841363"
   }
  }
 },
 "nbformat": 4,
 "nbformat_minor": 2
}
