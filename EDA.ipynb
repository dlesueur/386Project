{
 "cells": [
  {
   "attachments": {},
   "cell_type": "markdown",
   "metadata": {},
   "source": [
    "# Exploratory Data Analysis\n",
    "This python notebook contains the questions asked during my EDA and graphs generated based on those questions."
   ]
  },
  {
   "cell_type": "code",
   "execution_count": 60,
   "metadata": {},
   "outputs": [],
   "source": [
    "# import libraries\n",
    "import pandas as pd\n",
    "import seaborn as sns\n",
    "import numpy as np\n",
    "import plotly.express as px\n",
    "import matplotlib.pyplot as plt"
   ]
  },
  {
   "cell_type": "code",
   "execution_count": 61,
   "metadata": {},
   "outputs": [],
   "source": [
    "# import datasets \n",
    "games = pd.read_csv(\"datasets/games.csv\")\n",
    "players = pd.read_csv(\"datasets/players.csv\")\n",
    "stats = pd.read_csv(\"datasets/stats.csv\")\n",
    "teams = pd.read_csv(\"datasets/teams.csv\")"
   ]
  },
  {
   "attachments": {},
   "cell_type": "markdown",
   "metadata": {},
   "source": [
    "## What is the distribution of scores for home team vs visiting team?"
   ]
  },
  {
   "cell_type": "code",
   "execution_count": 62,
   "metadata": {},
   "outputs": [
    {
     "data": {
      "image/png": "[encoded data removed]",
      "text/plain": [
       "<Figure size 640x480 with 1 Axes>"
      ]
     },
     "metadata": {},
     "output_type": "display_data"
    }
   ],
   "source": [
    "plt.hist(games[['home_team_score']], bins = 20, alpha = 0.5, label = \"Home Team\", color = '#93A9C8')\n",
    "plt.hist(games[['visitor_team_score']], bins = 20, alpha = 0.5, label = \"Visitor Team\", color = '#EB7B69')\n",
    "plt.legend()\n",
    "plt.xlabel('Points')\n",
    "plt.ylabel('Frequency')\n",
    "plt.show()"
   ]
  },
  {
   "cell_type": "code",
   "execution_count": 63,
   "metadata": {},
   "outputs": [
    {
     "name": "stdout",
     "output_type": "stream",
     "text": [
      "115.63521126760564\n",
      "112.9225352112676\n"
     ]
    }
   ],
   "source": [
    "print(games['home_team_score'].mean())\n",
    "print(games['visitor_team_score'].mean())"
   ]
  },
  {
   "attachments": {},
   "cell_type": "markdown",
   "metadata": {},
   "source": [
    "The Home team score distribution is higher on the x axis than Visitor team score. We also can see from the means that the mean home team score is higher than visitor team score. "
   ]
  },
  {
   "attachments": {},
   "cell_type": "markdown",
   "metadata": {},
   "source": [
    "## Which teams have the highest mean scores?"
   ]
  },
  {
   "cell_type": "code",
   "execution_count": 64,
   "metadata": {},
   "outputs": [
    {
     "data": {
      "text/html": [
       "<div>\n",
       "<style scoped>\n",
       "    .dataframe tbody tr th:only-of-type {\n",
       "        vertical-align: middle;\n",
       "    }\n",
       "\n",
       "    .dataframe tbody tr th {\n",
       "        vertical-align: top;\n",
       "    }\n",
       "\n",
       "    .dataframe thead th {\n",
       "        text-align: right;\n",
       "    }\n",
       "</style>\n",
       "<table border=\"1\" class=\"dataframe\">\n",
       "  <thead>\n",
       "    <tr style=\"text-align: right;\">\n",
       "      <th></th>\n",
       "      <th>total_points</th>\n",
       "      <th>total_games</th>\n",
       "      <th>average_points</th>\n",
       "    </tr>\n",
       "    <tr>\n",
       "      <th>team</th>\n",
       "      <th></th>\n",
       "      <th></th>\n",
       "      <th></th>\n",
       "    </tr>\n",
       "  </thead>\n",
       "  <tbody>\n",
       "    <tr>\n",
       "      <th>SAC</th>\n",
       "      <td>11604</td>\n",
       "      <td>96</td>\n",
       "      <td>120.875000</td>\n",
       "    </tr>\n",
       "    <tr>\n",
       "      <th>GSW</th>\n",
       "      <td>12157</td>\n",
       "      <td>103</td>\n",
       "      <td>118.029126</td>\n",
       "    </tr>\n",
       "    <tr>\n",
       "      <th>ATL</th>\n",
       "      <td>10943</td>\n",
       "      <td>93</td>\n",
       "      <td>117.666667</td>\n",
       "    </tr>\n",
       "    <tr>\n",
       "      <th>UTA</th>\n",
       "      <td>10313</td>\n",
       "      <td>88</td>\n",
       "      <td>117.193182</td>\n",
       "    </tr>\n",
       "    <tr>\n",
       "      <th>MIL</th>\n",
       "      <td>10833</td>\n",
       "      <td>93</td>\n",
       "      <td>116.483871</td>\n",
       "    </tr>\n",
       "  </tbody>\n",
       "</table>\n",
       "</div>"
      ],
      "text/plain": [
       "      total_points  total_games  average_points\n",
       "team                                           \n",
       "SAC          11604           96      120.875000\n",
       "GSW          12157          103      118.029126\n",
       "ATL          10943           93      117.666667\n",
       "UTA          10313           88      117.193182\n",
       "MIL          10833           93      116.483871"
      ]
     },
     "execution_count": 64,
     "metadata": {},
     "output_type": "execute_result"
    }
   ],
   "source": [
    "# average points per game by team\n",
    "\n",
    "home_team_stats = games.groupby('home_team_abr').agg(\n",
    "    total_points=pd.NamedAgg(column='home_team_score', aggfunc='sum'),\n",
    "    total_games=pd.NamedAgg(column='home_team_score', aggfunc='count')\n",
    ")\n",
    "visitor_team_stats = games.groupby('visitor_team_abr').agg(\n",
    "    total_points=pd.NamedAgg(column='visitor_team_score', aggfunc='sum'),\n",
    "    total_games=pd.NamedAgg(column='visitor_team_score', aggfunc='count')\n",
    ")\n",
    "team_stats = home_team_stats.add(visitor_team_stats, fill_value=0)\n",
    "team_stats['average_points'] = team_stats['total_points'] / team_stats['total_games']\n",
    "team_stats.sort_values('average_points', ascending=False)\n",
    "team_stats.rename_axis('team', inplace=True)\n",
    "team_stats.sort_values('average_points', ascending = False).head()"
   ]
  },
  {
   "attachments": {},
   "cell_type": "markdown",
   "metadata": {},
   "source": [
    "## What is the correlation between average points and win/loss record?\n",
    "## Correlation between average opponents points and win/loss record?\n",
    "## Correlation between average score and average opponents score?"
   ]
  },
  {
   "attachments": {},
   "cell_type": "markdown",
   "metadata": {},
   "source": [
    "### Average points vs win/loss record"
   ]
  },
  {
   "cell_type": "code",
   "execution_count": 74,
   "metadata": {},
   "outputs": [],
   "source": [
    "team_stats['wins'] = 0\n",
    "team_stats['losses'] = 0"
   ]
  },
  {
   "cell_type": "code",
   "execution_count": 75,
   "metadata": {},
   "outputs": [],
   "source": [
    "for index, row in games.iterrows():\n",
    "    home_team = row['home_team_abr']\n",
    "    visitor_team = row['visitor_team_abr']\n",
    "    home_score = row['home_team_score']\n",
    "    visitor_score = row['visitor_team_score']\n",
    "    \n",
    "    # Update win/loss count based on scores\n",
    "    if home_score > visitor_score:\n",
    "        team_stats.loc[home_team, 'wins'] += 1\n",
    "        team_stats.loc[visitor_team, 'losses'] += 1\n",
    "    else:\n",
    "        team_stats.loc[home_team, 'losses'] += 1\n",
    "        team_stats.loc[visitor_team, 'wins'] += 1"
   ]
  },
  {
   "cell_type": "code",
   "execution_count": 76,
   "metadata": {},
   "outputs": [],
   "source": [
    "team_stats['win_pct'] = team_stats['wins'] / team_stats['total_games']\n"
   ]
  },
  {
   "cell_type": "code",
   "execution_count": 68,
   "metadata": {},
   "outputs": [
    {
     "data": {
      "image/png": "[encoded data removed]",
      "text/plain": [
       "<Figure size 640x480 with 1 Axes>"
      ]
     },
     "metadata": {},
     "output_type": "display_data"
    }
   ],
   "source": [
    "plt.scatter(team_stats['average_points'], team_stats['win_pct'])\n",
    "plt.xlabel('Average Points Per Game')\n",
    "plt.ylabel('Win Percentage')\n",
    "plt.show()"
   ]
  },
  {
   "attachments": {},
   "cell_type": "markdown",
   "metadata": {},
   "source": [
    "### Average Opponents Points vs win/loss record"
   ]
  },
  {
   "cell_type": "code",
   "execution_count": 69,
   "metadata": {},
   "outputs": [
    {
     "data": {
      "text/html": [
       "<div>\n",
       "<style scoped>\n",
       "    .dataframe tbody tr th:only-of-type {\n",
       "        vertical-align: middle;\n",
       "    }\n",
       "\n",
       "    .dataframe tbody tr th {\n",
       "        vertical-align: top;\n",
       "    }\n",
       "\n",
       "    .dataframe thead th {\n",
       "        text-align: right;\n",
       "    }\n",
       "</style>\n",
       "<table border=\"1\" class=\"dataframe\">\n",
       "  <thead>\n",
       "    <tr style=\"text-align: right;\">\n",
       "      <th></th>\n",
       "      <th>total_points</th>\n",
       "      <th>total_games</th>\n",
       "      <th>average_points</th>\n",
       "    </tr>\n",
       "    <tr>\n",
       "      <th>team</th>\n",
       "      <th></th>\n",
       "      <th></th>\n",
       "      <th></th>\n",
       "    </tr>\n",
       "  </thead>\n",
       "  <tbody>\n",
       "    <tr>\n",
       "      <th>SAC</th>\n",
       "      <td>11604</td>\n",
       "      <td>96</td>\n",
       "      <td>120.875000</td>\n",
       "    </tr>\n",
       "    <tr>\n",
       "      <th>GSW</th>\n",
       "      <td>12157</td>\n",
       "      <td>103</td>\n",
       "      <td>118.029126</td>\n",
       "    </tr>\n",
       "    <tr>\n",
       "      <th>ATL</th>\n",
       "      <td>10943</td>\n",
       "      <td>93</td>\n",
       "      <td>117.666667</td>\n",
       "    </tr>\n",
       "    <tr>\n",
       "      <th>UTA</th>\n",
       "      <td>10313</td>\n",
       "      <td>88</td>\n",
       "      <td>117.193182</td>\n",
       "    </tr>\n",
       "    <tr>\n",
       "      <th>MIL</th>\n",
       "      <td>10833</td>\n",
       "      <td>93</td>\n",
       "      <td>116.483871</td>\n",
       "    </tr>\n",
       "  </tbody>\n",
       "</table>\n",
       "</div>"
      ],
      "text/plain": [
       "      total_points  total_games  average_points\n",
       "team                                           \n",
       "SAC          11604           96      120.875000\n",
       "GSW          12157          103      118.029126\n",
       "ATL          10943           93      117.666667\n",
       "UTA          10313           88      117.193182\n",
       "MIL          10833           93      116.483871"
      ]
     },
     "execution_count": 69,
     "metadata": {},
     "output_type": "execute_result"
    }
   ],
   "source": [
    "home_team_stats = games.groupby('home_team_abr').agg(\n",
    "    total_points=pd.NamedAgg(column='home_team_score', aggfunc='sum'),\n",
    "    total_games=pd.NamedAgg(column='home_team_score', aggfunc='count')\n",
    ")\n",
    "visitor_team_stats = games.groupby('visitor_team_abr').agg(\n",
    "    total_points=pd.NamedAgg(column='visitor_team_score', aggfunc='sum'),\n",
    "    total_games=pd.NamedAgg(column='visitor_team_score', aggfunc='count')\n",
    ")\n",
    "team_stats = home_team_stats.add(visitor_team_stats, fill_value=0)\n",
    "team_stats['average_points'] = team_stats['total_points'] / team_stats['total_games']\n",
    "team_stats.sort_values('average_points', ascending=False)\n",
    "team_stats.rename_axis('team', inplace=True)\n",
    "team_stats.sort_values('average_points', ascending = False).head()"
   ]
  },
  {
   "cell_type": "code",
   "execution_count": 70,
   "metadata": {},
   "outputs": [
    {
     "data": {
      "text/html": [
       "<div>\n",
       "<style scoped>\n",
       "    .dataframe tbody tr th:only-of-type {\n",
       "        vertical-align: middle;\n",
       "    }\n",
       "\n",
       "    .dataframe tbody tr th {\n",
       "        vertical-align: top;\n",
       "    }\n",
       "\n",
       "    .dataframe thead th {\n",
       "        text-align: right;\n",
       "    }\n",
       "</style>\n",
       "<table border=\"1\" class=\"dataframe\">\n",
       "  <thead>\n",
       "    <tr style=\"text-align: right;\">\n",
       "      <th></th>\n",
       "      <th>total_points</th>\n",
       "      <th>total_games</th>\n",
       "      <th>average_points</th>\n",
       "      <th>opponent_total_points</th>\n",
       "      <th>opponent_avg_points</th>\n",
       "    </tr>\n",
       "    <tr>\n",
       "      <th>team</th>\n",
       "      <th></th>\n",
       "      <th></th>\n",
       "      <th></th>\n",
       "      <th></th>\n",
       "      <th></th>\n",
       "    </tr>\n",
       "  </thead>\n",
       "  <tbody>\n",
       "    <tr>\n",
       "      <th>ATL</th>\n",
       "      <td>10943</td>\n",
       "      <td>93</td>\n",
       "      <td>117.666667</td>\n",
       "      <td>10993</td>\n",
       "      <td>118.204301</td>\n",
       "    </tr>\n",
       "    <tr>\n",
       "      <th>BKN</th>\n",
       "      <td>10687</td>\n",
       "      <td>95</td>\n",
       "      <td>112.494737</td>\n",
       "      <td>10695</td>\n",
       "      <td>112.578947</td>\n",
       "    </tr>\n",
       "    <tr>\n",
       "      <th>BOS</th>\n",
       "      <td>12459</td>\n",
       "      <td>107</td>\n",
       "      <td>116.439252</td>\n",
       "      <td>11865</td>\n",
       "      <td>110.887850</td>\n",
       "    </tr>\n",
       "    <tr>\n",
       "      <th>CHA</th>\n",
       "      <td>9675</td>\n",
       "      <td>87</td>\n",
       "      <td>111.206897</td>\n",
       "      <td>10201</td>\n",
       "      <td>117.252874</td>\n",
       "    </tr>\n",
       "    <tr>\n",
       "      <th>CHI</th>\n",
       "      <td>10329</td>\n",
       "      <td>92</td>\n",
       "      <td>112.271739</td>\n",
       "      <td>10248</td>\n",
       "      <td>111.391304</td>\n",
       "    </tr>\n",
       "  </tbody>\n",
       "</table>\n",
       "</div>"
      ],
      "text/plain": [
       "      total_points  total_games  average_points  opponent_total_points  \\\n",
       "team                                                                     \n",
       "ATL          10943           93      117.666667                  10993   \n",
       "BKN          10687           95      112.494737                  10695   \n",
       "BOS          12459          107      116.439252                  11865   \n",
       "CHA           9675           87      111.206897                  10201   \n",
       "CHI          10329           92      112.271739                  10248   \n",
       "\n",
       "      opponent_avg_points  \n",
       "team                       \n",
       "ATL            118.204301  \n",
       "BKN            112.578947  \n",
       "BOS            110.887850  \n",
       "CHA            117.252874  \n",
       "CHI            111.391304  "
      ]
     },
     "execution_count": 70,
     "metadata": {},
     "output_type": "execute_result"
    }
   ],
   "source": [
    "home_op_points = games.groupby('visitor_team_abr').agg(\n",
    "    total_points = pd.NamedAgg(column='home_team_score', aggfunc='sum')\n",
    ")\n",
    "visiting_op_points = games.groupby('home_team_abr').agg(\n",
    "    total_points = pd.NamedAgg(column='visitor_team_score', aggfunc = 'sum')\n",
    ")\n",
    "op_stats = home_op_points.add(visiting_op_points, fill_value=0)\n",
    "team_stats['opponent_total_points'] = op_stats\n",
    "\n",
    "team_stats['opponent_avg_points'] = team_stats['opponent_total_points'] / team_stats['total_games']\n",
    "team_stats.head()"
   ]
  },
  {
   "cell_type": "code",
   "execution_count": 77,
   "metadata": {},
   "outputs": [
    {
     "data": {
      "image/png": "[encoded data removed]",
      "text/plain": [
       "<Figure size 640x480 with 1 Axes>"
      ]
     },
     "metadata": {},
     "output_type": "display_data"
    }
   ],
   "source": [
    "plt.scatter(team_stats['opponent_avg_points'], team_stats['win_pct'])\n",
    "plt.xlabel('Average Opponents Points Per Game')\n",
    "plt.ylabel('Win Percentage')\n",
    "plt.show()"
   ]
  },
  {
   "cell_type": "code",
   "execution_count": 79,
   "metadata": {},
   "outputs": [
    {
     "data": {
      "image/png": "[encoded data removed]",
      "text/plain": [
       "<Figure size 640x480 with 1 Axes>"
      ]
     },
     "metadata": {},
     "output_type": "display_data"
    }
   ],
   "source": [
    "plt.scatter(team_stats['average_points'], team_stats['opponent_avg_points'])\n",
    "plt.xlabel('Average Points Per Game')\n",
    "plt.ylabel('Average Opponent Points Per Game')\n",
    "plt.show()"
   ]
  }
 ],
 "metadata": {
  "kernelspec": {
   "display_name": "stat386",
   "language": "python",
   "name": "python3"
  },
  "language_info": {
   "codemirror_mode": {
    "name": "ipython",
    "version": 3
   },
   "file_extension": ".py",
   "mimetype": "text/x-python",
   "name": "python",
   "nbconvert_exporter": "python",
   "pygments_lexer": "ipython3",
   "version": "3.10.12"
  },
  "orig_nbformat": 4,
  "vscode": {
   "interpreter": {
    "hash": "f3af26a2920dcb940287e58e6f96ecf1de4a3326403e094a8e18775537841363"
   }
  }
 },
 "nbformat": 4,
 "nbformat_minor": 2
}
